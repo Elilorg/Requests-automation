{
 "cells": [
  {
   "cell_type": "markdown",
   "metadata": {},
   "source": [
    "Import de CSV et traitement de la colonne des virement pour séparer les informations "
   ]
  },
  {
   "cell_type": "code",
   "execution_count": 37,
   "metadata": {},
   "outputs": [],
   "source": [
    "import csv \n",
    "from datetime import date \n",
    "\n",
    "today = date.today()\n",
    "FILENAME = \"relevé3.csv\"\n",
    "\n",
    "#Add OS package to catégorize csv file so i don't have to find them \n",
    "#Step by step : search for the csv file, find it, do the treatment, put the file in an othe directory with standard name and date. \n",
    "# If no csv files in current dir, take the last csv file treated\n",
    "\n",
    "def traitement(text : str) -> (str,str):\n",
    "    if \"ACHAT CB\" in text : \n",
    "        text = text.replace(\"ACHAT CB\", \"\")\n",
    "        destinataire = text[:-43].strip()\n",
    "        return destinataire.replace('\"', \"\").strip(), \"CB\"\n",
    "    \n",
    "    elif \"PRELEVEMENT DE\" in text : \n",
    "        text = text.replace(\"PRELEVEMENT DE\", \"\")\n",
    "        destinataire = text.split(\"REF\")[0]\n",
    "        return destinataire.replace('\"', \"\").strip(), \"PRELEVEMENT\"\n",
    "    \n",
    "    elif \"VIREMENT INSTANTANE A\" in text :\n",
    "        text = text.replace('VIREMENT INSTANTANE A', \"\")\n",
    "        destinataire = text\n",
    "        return destinataire.replace('\"', \"\").strip(), \"VIREMENT SORTANT\"\n",
    "    \n",
    "    elif \"VIREMENT INSTANTANE DE\" in text : \n",
    "        text = text.replace('VIREMENT INSTANTANE DE', \"\")\n",
    "        destinataire = text\n",
    "        return destinataire.strip(), \"VIREMENT ENTRANT\"\n",
    "    \n",
    "    else : return \"LIQUIDE\", \"RETRAIT\""
   ]
  },
  {
   "cell_type": "markdown",
   "metadata": {},
   "source": [
    "Retourne la catégorie en fonction du destinataire "
   ]
  },
  {
   "cell_type": "code",
   "execution_count": 38,
   "metadata": {},
   "outputs": [],
   "source": [
    "categories = {\n",
    "            \"TRANSPORT\" : ['SNCF', 'SNCF INTERNET', 'SNCF WEB MOBIL'], \n",
    "            \"NOURRITURE\" : [\"PICARD SA\", \"FRANPRIX 5141\", \"MC DONALD S\", \"CARREFOUR\", 'SC-BOUL CHARRI', 'IZLY SMONEY', 'AUCHAN SUPERMA', 'MAISON ISAAC','L ORIENT EXPRE', 'BOUL. MARQUETT'],\n",
    "            \"UTC\" : [\"UTC\", \"WEEZEVENT\", 'BDE UTC PAYUTC', \"WEEZEVENT CASH\"], \n",
    "            \"Réguliers\" : ['EDF clients parti iers', \"MATMUT ROUEN\", \"Orange SA\"], \n",
    "            \"AUTRE\" : [\"\"]\n",
    "            }\n",
    "\n",
    "def categorie(destinataire : str) -> str : \n",
    "    for i in categories.keys() :\n",
    "        if destinataire in categories[i] : \n",
    "            return i \n",
    "    return \"AUTRE\""
   ]
  },
  {
   "cell_type": "markdown",
   "metadata": {
    "slideshow": {
     "slide_type": "fragment"
    },
    "tags": [
     "executed"
    ]
   },
   "source": [
    "Pour chaque ligne, on effectue le traitement et retourne la ligne traitée\n"
   ]
  },
  {
   "cell_type": "code",
   "execution_count": 39,
   "metadata": {},
   "outputs": [],
   "source": [
    "def traitement_de_ligne(row) : \n",
    "    destinataire, moyen_de_payement = traitement(row[1])\n",
    "    row[1] = destinataire\n",
    "    row.append(moyen_de_payement)\n",
    "\n",
    "    float_montant = float(row[2].replace(\",\",\".\"))\n",
    "    row[2] = float_montant\n",
    "\n",
    "    row.append(categorie(destinataire))\n",
    "    return row"
   ]
  },
  {
   "cell_type": "markdown",
   "metadata": {},
   "source": [
    "On ouvre le fichier et on applique le traitement pour chaques ligne, puis on ajoute chaque ligne au fichier"
   ]
  },
  {
   "cell_type": "code",
   "execution_count": 40,
   "metadata": {},
   "outputs": [
    {
     "name": "stdout",
     "output_type": "stream",
     "text": [
      "['02/12/2022', 'LIQUIDE', 260.0, 'RETRAIT', 'AUTRE']\n",
      "['01/12/2022', 'ELIAS REVOLUT Retour des 10euros d urgence', -10.0, 'VIREMENT SORTANT', 'AUTRE']\n",
      "['01/12/2022', 'PHARMACIE DES', -2.95, 'CB', 'AUTRE']\n",
      "['29/11/2022', 'Orange SA', -19.99, 'PRELEVEMENT', 'Réguliers']\n",
      "['28/11/2022', 'SNCF', -42.5, 'CB', 'TRANSPORT']\n",
      "['28/11/2022', 'SNCF WEB MOBIL', -15.0, 'CB', 'TRANSPORT']\n",
      "['28/11/2022', 'CARREFOUR', -12.52, 'CB', 'NOURRITURE']\n",
      "['28/11/2022', 'SNCF WEB MOBIL', -7.7, 'CB', 'TRANSPORT']\n",
      "['28/11/2022', 'SNCF WEB MOBIL', -7.7, 'CB', 'TRANSPORT']\n",
      "['28/11/2022', 'M LORGNIER AURELIEN OU', 80.0, 'VIREMENT ENTRANT', 'AUTRE']\n",
      "['25/11/2022', 'Elias Lorgnier Sent from Revolut', 10.0, 'VIREMENT ENTRANT', 'AUTRE']\n",
      "['23/11/2022', 'CARREFOUR', -2.03, 'CB', 'NOURRITURE']\n",
      "['21/11/2022', 'CLARA SL Pret', -6.0, 'VIREMENT SORTANT', 'AUTRE']\n",
      "['21/11/2022', 'EDF clients parti iers', -30.33, 'PRELEVEMENT', 'Réguliers']\n",
      "['21/11/2022', 'MC DONALD S', -12.0, 'CB', 'NOURRITURE']\n",
      "['21/11/2022', 'SNCF WEB MOBIL', -7.7, 'CB', 'TRANSPORT']\n",
      "['21/11/2022', 'SNCF WEB MOBIL', -7.7, 'CB', 'TRANSPORT']\n",
      "['18/11/2022', 'PHARMACIE DES', -2.95, 'CB', 'AUTRE']\n",
      "['17/11/2022', 'AUCHAN SUPERMA', -12.46, 'CB', 'NOURRITURE']\n",
      "['16/11/2022', 'CARREFOUR', -1.93, 'CB', 'NOURRITURE']\n",
      "['14/11/2022', 'CLARA SL', -5.05, 'VIREMENT SORTANT', 'AUTRE']\n",
      "['14/11/2022', 'CLARA SL Lardons craimefrache', -5.0, 'VIREMENT SORTANT', 'AUTRE']\n",
      "['14/11/2022', 'GDE PHMCIE LIL', -10.5, 'CB', 'AUTRE']\n",
      "['14/11/2022', 'phie babylone', -8.9, 'CB', 'AUTRE']\n",
      "['14/11/2022', 'DELICE DE MARI', -8.6, 'CB', 'AUTRE']\n",
      "['14/11/2022', 'SNCF INTERNET', -7.7, 'CB', 'TRANSPORT']\n",
      "['14/11/2022', 'MC DONALD S', -4.0, 'CB', 'NOURRITURE']\n",
      "['10/11/2022', 'IZLY SMONEY', -40.0, 'CB', 'NOURRITURE']\n",
      "['10/11/2022', 'IZLY SMONEY', -40.0, 'CB', 'NOURRITURE']\n",
      "['09/11/2022', 'SNCF INTERNET', -7.7, 'CB', 'TRANSPORT']\n",
      "['08/11/2022', 'PAYPLUG.COM', -208.43, 'CB', 'AUTRE']\n",
      "['08/11/2022', 'AUCHAN SUPERMA', -12.62, 'CB', 'NOURRITURE']\n",
      "['08/11/2022', 'PICARD SA', -3.5, 'CB', 'NOURRITURE']\n",
      "['08/11/2022', 'SC-BOUL CHARRI', -1.2, 'CB', 'NOURRITURE']\n",
      "['08/11/2022', 'LIQUIDE', 15.0, 'RETRAIT', 'AUTRE']\n",
      "['07/11/2022', 'SNCF INTERNET', -7.7, 'CB', 'TRANSPORT']\n",
      "['04/11/2022', 'LIQUIDE', 165.0, 'RETRAIT', 'AUTRE']\n",
      "['03/11/2022', 'LIQUIDE', 9.0, 'RETRAIT', 'AUTRE']\n",
      "['02/11/2022', 'CLARA SL Depenses vacances', -20.0, 'VIREMENT SORTANT', 'AUTRE']\n"
     ]
    }
   ],
   "source": [
    "with open(FILENAME) as csvfile : \n",
    "    csvreader = csv.reader(csvfile, delimiter=\";\")\n",
    "\n",
    "    header = [next(csvreader) for i in range(7)]\n",
    "    new_file = []\n",
    "    for row in csvreader : \n",
    "\n",
    "        row = traitement_de_ligne(row)\n",
    "        new_file.append(row)\n",
    "        print(row)"
   ]
  },
  {
   "cell_type": "markdown",
   "metadata": {},
   "source": [
    "on crée l'objet \"sheet\" du package openpyxlet on y ajoute la première ligne"
   ]
  },
  {
   "cell_type": "code",
   "execution_count": 41,
   "metadata": {},
   "outputs": [],
   "source": [
    "import openpyxl\n",
    "\n",
    "firstline = header[-1]\n",
    "firstline[1] = \"Destinataire\"\n",
    "firstline[2] = \"Montant\"\n",
    "firstline += [\"moyen de payement\",\"Catégorie\"]\n",
    "\n",
    "wb = openpyxl.Workbook()\n",
    "sheet = wb.active\n",
    "sheet.append(firstline) "
   ]
  },
  {
   "cell_type": "markdown",
   "metadata": {},
   "source": [
    "pour chaque ligne du nouveau fichier, on l'ajoute à l'objet sheet si elle correspond à une dépense."
   ]
  },
  {
   "cell_type": "code",
   "execution_count": 42,
   "metadata": {},
   "outputs": [],
   "source": [
    "for i in new_file : \n",
    "    if i[2] < 0 and i[1] != \"ELIAS REVOLUT Transition\" and i[1] != \"ELIAS REVOLUT\":\n",
    "        sheet.append(i)"
   ]
  },
  {
   "cell_type": "markdown",
   "metadata": {},
   "source": [
    "Création d'une feuille ou les dépenses sont réunies par catégories, puis d'un graphe qui représente le montant des dépenses par catégorie"
   ]
  },
  {
   "cell_type": "code",
   "execution_count": 43,
   "metadata": {},
   "outputs": [],
   "source": [
    "wb.create_sheet(title=\"Par Catégorie\")\n",
    "sheet3 = wb[\"Par Catégorie\"]\n",
    "\n",
    "\n",
    "cat = categories.keys()\n",
    "sheet3.append(list(cat))\n",
    "sheet3.append( [sum([abs(n[2]) for n in new_file if n[2]<0 and n[4] == i and n[1] != \"ELIAS REVOLUT Transition\" and n[1] != \"ELIAS REVOLUT\"]) for i in cat ])\n",
    "\n",
    "#graphe par catégorie (trouver comment mettre les catégories en abcisse)\n",
    "chart_ref = openpyxl.chart.Reference(sheet3,min_col=sheet.min_column,max_col=sheet3.max_column,min_row=2,max_row=sheet3.max_row )\n",
    "chart_series = openpyxl.chart.Series(chart_ref)\n",
    "chart = openpyxl.chart.BarChart()\n",
    "chart.append(chart_series)\n",
    "sheet3.add_chart(chart,\"F5\")"
   ]
  },
  {
   "cell_type": "markdown",
   "metadata": {},
   "source": [
    "Création d'une feuille ou les dépenses sont réunies par jours "
   ]
  },
  {
   "cell_type": "code",
   "execution_count": 44,
   "metadata": {},
   "outputs": [],
   "source": [
    "wb.create_sheet(title=\"Par jour\")\n",
    "sheet2 = wb[\"Par jour\"]\n",
    "\n",
    "#trouver comment ajouter toutes les dates du mois\n",
    "\"\"\"\n",
    "1. créer une liste de toutes les dates du moi donné\n",
    "2. faire la meme fonction pour toutes les dates \"\"\"\n",
    "\n",
    "dates = sorted(list(set([i[0] for i in new_file])))\n",
    "for i in dates :\n",
    "    sheet2.append([i, abs(sum([n[2] for n in new_file if n[2] < 0 and n[0] == i]))])\n",
    "\n",
    "wb.save(f'./relevés/relevé{today}.xlsx')   "
   ]
  },
  {
   "cell_type": "markdown",
   "metadata": {},
   "source": [
    "Adapter la taille des colonnes automatiquement \n",
    "Trouver comment mettre la legende pour les charts "
   ]
  }
 ],
 "metadata": {
  "kernelspec": {
   "display_name": "Python 3.11.0 64-bit",
   "language": "python",
   "name": "python3"
  },
  "language_info": {
   "codemirror_mode": {
    "name": "ipython",
    "version": 3
   },
   "file_extension": ".py",
   "mimetype": "text/x-python",
   "name": "python",
   "nbconvert_exporter": "python",
   "pygments_lexer": "ipython3",
   "version": "3.11.0"
  },
  "orig_nbformat": 4,
  "vscode": {
   "interpreter": {
    "hash": "bc79bed0333a930cf313cce049ab372a42592ca5c98a7908a8e03647c11d42bc"
   }
  }
 },
 "nbformat": 4,
 "nbformat_minor": 2
}
