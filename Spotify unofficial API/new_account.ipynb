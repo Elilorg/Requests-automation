{
 "cells": [
  {
   "cell_type": "code",
   "execution_count": 1,
   "metadata": {},
   "outputs": [],
   "source": [
    "import requests\n",
    "import json\n",
    "\n",
    "\n",
    "def créer_compte(email=None, password=None, date_naissance=None) : \n",
    "\n",
    "    url = \"https://spclient.wg.spotify.com:443/signup/public/v1/account/\"\n",
    "\n",
    "    payload = {\n",
    "        \"email\" :  email, \n",
    "        \"password_repeat\": password, \n",
    "        \"password\" : password, \n",
    "        \"key\" : \"142b583129b2df829de3656f9eb484e6\",\n",
    "        \"gender\" : \"male\",\n",
    "        \"platform\" : \"Android-ARM\", \n",
    "        \"creation_point\":\"client_mobile\", \n",
    "        \"birth_day\":\"10\",\n",
    "        \"birth_month\": \"9\",\n",
    "        \"iagree\" : \"true\", \n",
    "        \"app_version\" : \"849800892\", \n",
    "        \"birth_year\":\"1998\", \n",
    "        \"displayname\" : email.split(\"@\")[0]\n",
    "    }\n",
    "\n",
    "    headers = {\"Host\": \"spclient.wg.spotify.com\",\n",
    "                \"User-Agent\": \"Spotify/8.4.98 Android/26 (Custom Tablet)\",\n",
    "                \"Connection\": \"keep-alive\",\n",
    "                \"Content-Type\": \"application/x-www-form-urlencoded\"}\n",
    "\n",
    "    r = requests.post(url, data = payload, headers = headers)"
   ]
  },
  {
   "cell_type": "code",
   "execution_count": 6,
   "metadata": {},
   "outputs": [
    {
     "name": "stdout",
     "output_type": "stream",
     "text": [
      "<Response [200]>\n",
      "{\"status\": 1, \"country\": \"FR\", \"dmca-radio\": false, \"shuffle-restricted\": false, \"username\": \"31oipf7wosq6626q7prcazrybplu\", \"can_accept_licenses_in_one_step\": false, \"requires_marketing_opt_in\": false, \"requires_marketing_opt_in_text\": false, \"minimum_age\": 15, \"country_group\": \"EU\", \"specific_licenses\": false, \"terms_conditions_acceptance\": \"implicit\", \"privacy_policy_acceptance\": \"non\", \"spotify_marketing_messages_option\": \"opt_in\", \"pretick_eula\": true, \"show_collect_personal_info\": false, \"use_all_genders\": true, \"use_other_gender\": true, \"use_prefer_not_to_say_gender\": true, \"show_non_required_fields_as_optional\": false, \"date_endianness\": 1, \"is_country_launched\": true, \"push-notifications\": false}\n"
     ]
    }
   ],
   "source": [
    "print(r)\n",
    "print(str(r.json()).replace(\"'\", '\"').replace(\"True\", \"true\").replace(\"False\", \"false\"))"
   ]
  }
 ],
 "metadata": {
  "kernelspec": {
   "display_name": "Python 3",
   "language": "python",
   "name": "python3"
  },
  "language_info": {
   "codemirror_mode": {
    "name": "ipython",
    "version": 3
   },
   "file_extension": ".py",
   "mimetype": "text/x-python",
   "name": "python",
   "nbconvert_exporter": "python",
   "pygments_lexer": "ipython3",
   "version": "3.11.3"
  },
  "orig_nbformat": 4
 },
 "nbformat": 4,
 "nbformat_minor": 2
}
